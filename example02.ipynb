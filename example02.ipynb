{
 "cells": [
  {
   "cell_type": "markdown",
   "metadata": {},
   "source": [
    "## ETL Example with DataFrames"
   ]
  },
  {
   "cell_type": "markdown",
   "metadata": {},
   "source": [
    "#### Extraction: create a DataFrame from a given JSON document"
   ]
  },
  {
   "cell_type": "code",
   "execution_count": 1,
   "metadata": {},
   "outputs": [],
   "source": [
    "from pyspark.sql import SparkSession\n",
    "spark = SparkSession.builder \\\n",
    ".master(\"local\") \\\n",
    ".appName(\"ETL\") \\\n",
    ".getOrCreate()"
   ]
  },
  {
   "cell_type": "code",
   "execution_count": 2,
   "metadata": {},
   "outputs": [],
   "source": [
    "# Read JSON file and create DataFrame\n",
    "input_path = \"census_2010.json\"\n",
    "census_df = spark.read.json(input_path)"
   ]
  },
  {
   "cell_type": "code",
   "execution_count": 3,
   "metadata": {},
   "outputs": [
    {
     "data": {
      "text/plain": [
       "101"
      ]
     },
     "execution_count": 3,
     "metadata": {},
     "output_type": "execute_result"
    }
   ],
   "source": [
    "# Counting records\n",
    "census_df.count()"
   ]
  },
  {
   "cell_type": "code",
   "execution_count": 10,
   "metadata": {},
   "outputs": [
    {
     "name": "stdout",
     "output_type": "stream",
     "text": [
      "+---+-------+-------+----+\n",
      "|age|females|  males|year|\n",
      "+---+-------+-------+----+\n",
      "|  0|1994141|2085528|2010|\n",
      "|  1|1997991|2087350|2010|\n",
      "|  2|2000746|2088549|2010|\n",
      "|  3|2002756|2089465|2010|\n",
      "|  4|2004366|2090436|2010|\n",
      "|  5|2005925|2091803|2010|\n",
      "|  6|2007781|2093905|2010|\n",
      "|  7|2010281|2097080|2010|\n",
      "|  8|2013771|2101670|2010|\n",
      "|  9|2018603|2108014|2010|\n",
      "| 10|2023289|2114217|2010|\n",
      "| 11|2026352|2118390|2010|\n",
      "| 12|2037286|2132030|2010|\n",
      "| 13|2060100|2159943|2010|\n",
      "| 14|2089651|2195773|2010|\n",
      "| 15|2117689|2229339|2010|\n",
      "| 16|2146942|2263862|2010|\n",
      "| 17|2165852|2285295|2010|\n",
      "| 18|2168175|2285990|2010|\n",
      "| 19|2159571|2272689|2010|\n",
      "+---+-------+-------+----+\n",
      "only showing top 20 rows\n",
      "\n"
     ]
    }
   ],
   "source": [
    "census_df.show()"
   ]
  },
  {
   "cell_type": "markdown",
   "metadata": {},
   "source": [
    "#### Transformation: several operations on data"
   ]
  },
  {
   "cell_type": "code",
   "execution_count": 11,
   "metadata": {},
   "outputs": [
    {
     "data": {
      "text/plain": [
       "46"
      ]
     },
     "execution_count": 11,
     "metadata": {},
     "output_type": "execute_result"
    }
   ],
   "source": [
    "# Select just the seniors \n",
    "seniors = census_df[census_df['age'] > 54]\n",
    "seniors.count()"
   ]
  },
  {
   "cell_type": "code",
   "execution_count": 12,
   "metadata": {},
   "outputs": [
    {
     "name": "stdout",
     "output_type": "stream",
     "text": [
      "+---+-------+-------+----+\n",
      "|age|females|  males|year|\n",
      "+---+-------+-------+----+\n",
      "| 55|2167706|2059204|2010|\n",
      "| 56|2106460|1989505|2010|\n",
      "| 57|2048896|1924113|2010|\n",
      "| 58|2001049|1869486|2010|\n",
      "| 59|1957350|1819943|2010|\n",
      "| 60|1908602|1765522|2010|\n",
      "| 61|1859542|1710843|2010|\n",
      "| 62|1794846|1642438|2010|\n",
      "| 63|1706899|1553454|2010|\n",
      "| 64|1604801|1452106|2010|\n",
      "| 65|1505088|1353125|2010|\n",
      "| 66|1404227|1253164|2010|\n",
      "| 67|1314295|1164006|2010|\n",
      "| 68|1242906|1092883|2010|\n",
      "| 69|1184673|1034415|2010|\n",
      "| 70|1126180| 975512|2010|\n",
      "| 71|1069608| 918217|2010|\n",
      "| 72|1018530| 865438|2010|\n",
      "| 73| 973223| 817131|2010|\n",
      "| 74| 932810| 772524|2010|\n",
      "+---+-------+-------+----+\n",
      "only showing top 20 rows\n",
      "\n"
     ]
    }
   ],
   "source": [
    "seniors.show()"
   ]
  },
  {
   "cell_type": "code",
   "execution_count": 13,
   "metadata": {},
   "outputs": [],
   "source": [
    "# create a new aggregated column called total, \n",
    "# which adds up the numbers of males and females\n",
    "from pyspark.sql.functions import lit\n",
    "\n",
    "seniors_final = seniors.withColumn('total', lit(seniors.males + seniors.females))"
   ]
  },
  {
   "cell_type": "code",
   "execution_count": 14,
   "metadata": {},
   "outputs": [
    {
     "name": "stdout",
     "output_type": "stream",
     "text": [
      "+---+-------+-------+----+-------+\n",
      "|age|females|  males|year|  total|\n",
      "+---+-------+-------+----+-------+\n",
      "| 55|2167706|2059204|2010|4226910|\n",
      "| 56|2106460|1989505|2010|4095965|\n",
      "| 57|2048896|1924113|2010|3973009|\n",
      "| 58|2001049|1869486|2010|3870535|\n",
      "| 59|1957350|1819943|2010|3777293|\n",
      "| 60|1908602|1765522|2010|3674124|\n",
      "| 61|1859542|1710843|2010|3570385|\n",
      "| 62|1794846|1642438|2010|3437284|\n",
      "| 63|1706899|1553454|2010|3260353|\n",
      "| 64|1604801|1452106|2010|3056907|\n",
      "| 65|1505088|1353125|2010|2858213|\n",
      "| 66|1404227|1253164|2010|2657391|\n",
      "| 67|1314295|1164006|2010|2478301|\n",
      "| 68|1242906|1092883|2010|2335789|\n",
      "| 69|1184673|1034415|2010|2219088|\n",
      "| 70|1126180| 975512|2010|2101692|\n",
      "| 71|1069608| 918217|2010|1987825|\n",
      "| 72|1018530| 865438|2010|1883968|\n",
      "| 73| 973223| 817131|2010|1790354|\n",
      "| 74| 932810| 772524|2010|1705334|\n",
      "+---+-------+-------+----+-------+\n",
      "only showing top 20 rows\n",
      "\n"
     ]
    }
   ],
   "source": [
    "seniors_final.show()"
   ]
  },
  {
   "cell_type": "markdown",
   "metadata": {},
   "source": [
    "#### Loading: write the revised DataFrame into a database"
   ]
  },
  {
   "cell_type": "code",
   "execution_count": null,
   "metadata": {},
   "outputs": [],
   "source": [
    "# Write seniors_final DF into a MySQL table\n",
    "\n",
    "# seniors_final\\\n",
    "#     .write\\\n",
    "#     .format(\"jdbc\")\\\n",
    "#     .option(\"driver\", \"com.mysql.jdbc.Driver\")\\\n",
    "#     .mode(\"overwrite\")\\\n",
    "#     .option(\"url\", \"jdbc:mysql://localhost/testdb\")\\\n",
    "#     .option(\"dbtable\", \"seniors\")\\\n",
    "#     .option(\"user\", \"root\")\\\n",
    "#     .option(\"password\", \"root_password\")\\\n",
    "#     .save()"
   ]
  }
 ],
 "metadata": {
  "kernelspec": {
   "display_name": "Python 3.10.4 ('spark')",
   "language": "python",
   "name": "python3"
  },
  "language_info": {
   "codemirror_mode": {
    "name": "ipython",
    "version": 3
   },
   "file_extension": ".py",
   "mimetype": "text/x-python",
   "name": "python",
   "nbconvert_exporter": "python",
   "pygments_lexer": "ipython3",
   "version": "3.10.4"
  },
  "orig_nbformat": 4,
  "vscode": {
   "interpreter": {
    "hash": "69b211e07474a9e73531081efef24def05b8af1228c67250e2d0156b41196fed"
   }
  }
 },
 "nbformat": 4,
 "nbformat_minor": 2
}
